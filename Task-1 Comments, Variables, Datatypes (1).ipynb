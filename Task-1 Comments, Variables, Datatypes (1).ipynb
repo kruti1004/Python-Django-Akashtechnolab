{
 "cells": [
  {
   "cell_type": "code",
   "execution_count": 5,
   "metadata": {},
   "outputs": [
    {
     "name": "stdout",
     "output_type": "stream",
     "text": [
      "hello World\n"
     ]
    }
   ],
   "source": [
    "#coments in python\n",
    "\n",
    "#print Hello World \n",
    "print(\"hello World\")\n",
    "    "
   ]
  },
  {
   "cell_type": "code",
   "execution_count": 7,
   "metadata": {},
   "outputs": [
    {
     "name": "stdout",
     "output_type": "stream",
     "text": [
      "10\n",
      "value of b is: 20\n",
      "type of course is: Internship\n"
     ]
    }
   ],
   "source": [
    "#variable In Python\n",
    "#A variable name location used to store data in memory \n",
    "\n",
    "a=10\n",
    "b=20\n",
    "c=\"Internship\"\n",
    "\n",
    "print(a)\n",
    "print(\"value of b is:\",b)\n",
    "print(\"type of course is:\",c)"
   ]
  },
  {
   "cell_type": "code",
   "execution_count": 8,
   "metadata": {},
   "outputs": [
    {
     "name": "stdout",
     "output_type": "stream",
     "text": [
      "15\n",
      "45\n",
      "kruti\n"
     ]
    }
   ],
   "source": [
    "#Assigning multiple values to multiple variables \n",
    "\n",
    "a,b,c=15,45,\"kruti\"\n",
    "\n",
    "print(a)\n",
    "print(b)\n",
    "print(c)"
   ]
  },
  {
   "cell_type": "code",
   "execution_count": 10,
   "metadata": {},
   "outputs": [
    {
     "name": "stdout",
     "output_type": "stream",
     "text": [
      "value of a is : 1994\n",
      "value of b is : 1994\n",
      "value of c is : 1994\n"
     ]
    }
   ],
   "source": [
    " #Assign the same value to multiple variables\n",
    "    \n",
    "a=b=c=1994\n",
    "\n",
    "print(\"value of a is :\",a)\n",
    "print(\"value of b is :\",b)\n",
    "print(\"value of c is :\",c)"
   ]
  },
  {
   "cell_type": "code",
   "execution_count": 14,
   "metadata": {},
   "outputs": [
    {
     "name": "stdout",
     "output_type": "stream",
     "text": [
      "10 is type of <class 'int'>\n",
      "20.55 if type of  <class 'float'>\n",
      "20.55 is complex number? False\n",
      "(2+3j) is complex number? True\n"
     ]
    }
   ],
   "source": [
    "# data types in python\n",
    "#number\n",
    "#list\n",
    "#string\n",
    "#tuple\n",
    "#dictionary\n",
    "\n",
    "#NUMBER\n",
    "\n",
    "n1=10\n",
    "print(n1,\"is type of\",type(n1))\n",
    "\n",
    "n2=20.55\n",
    "print(n2,\"if type of \",type(n2))\n",
    "print(n2,\"is complex number?\", isinstance(20.55, int))\n",
    "\n",
    "n3=2+3j\n",
    "print(n3,\"is complex number?\", isinstance(2+3j, complex))\n"
   ]
  },
  {
   "cell_type": "code",
   "execution_count": 15,
   "metadata": {},
   "outputs": [
    {
     "name": "stdout",
     "output_type": "stream",
     "text": [
      "Name is: kruti dodiya\n",
      "k\n",
      "ruti \n",
      "ti dodiya\n",
      "kruti dodiyakruti dodiya\n",
      "kruti dodiyakruti dodiyakruti dodiyakruti dodiya\n",
      "kruti dodiya hello\n"
     ]
    }
   ],
   "source": [
    "#STRING\n",
    "\n",
    "name=\"kruti dodiya\"\n",
    "\n",
    "#print complete string\n",
    "print(\"Name is:\",name)\n",
    "\n",
    "#print first char. of sring\n",
    "print(name[0])\n",
    "\n",
    "#print char. stsrting from 2nd to 6th\n",
    "print(name[1:6])\n",
    "\n",
    "#print string strting from 4th char.\n",
    "print(name[3:])\n",
    "\n",
    "#print string multiple time\n",
    "print(name*2)\n",
    "print(name*4)\n",
    "\n",
    "#print conected sting\n",
    "print(name+\" hello\")"
   ]
  },
  {
   "cell_type": "code",
   "execution_count": 1,
   "metadata": {},
   "outputs": [
    {
     "name": "stdout",
     "output_type": "stream",
     "text": [
      "[10, 2.6, 'python', 500, 50, 1.7, 'programming', 1.11]\n",
      "<class 'list'>\n",
      "1.7\n",
      "[500, 50, 1.7]\n",
      "['programming', 1.11]\n",
      "[10, 2.6, 'python', 500]\n"
     ]
    }
   ],
   "source": [
    "#LISt\n",
    "\n",
    "l1 = [10,2.6,\"python\",500,50,1.7,\"programming\",1.11]\n",
    "print(l1)\n",
    "print(type(l1))\n",
    "\n",
    "#accessing through index\n",
    "print(l1[5])\n",
    "\n",
    "#slicing \n",
    "print(l1[3:6])\n",
    "print(l1[6:])\n",
    "print(l1[:4])\n"
   ]
  },
  {
   "cell_type": "code",
   "execution_count": 2,
   "metadata": {},
   "outputs": [
    {
     "name": "stdout",
     "output_type": "stream",
     "text": [
      "(100, 7.45, 2, 'kruti', 803)\n",
      "<class 'tuple'>\n",
      "2\n",
      "('kruti',)\n",
      "(2, 'kruti', 803)\n",
      "(100, 7.45)\n"
     ]
    }
   ],
   "source": [
    "#tuples\n",
    "t1 = (100,7.45,2,\"kruti\",803)\n",
    "print(t1)\n",
    "print(type(t1))\n",
    "\n",
    "#accessing through index\n",
    "print(t1[2])\n",
    "\n",
    "#slicing \n",
    "print(t1[3:4])\n",
    "print(t1[2:])\n",
    "print(t1[:2])"
   ]
  },
  {
   "cell_type": "code",
   "execution_count": 3,
   "metadata": {},
   "outputs": [
    {
     "name": "stdout",
     "output_type": "stream",
     "text": [
      "{1: 'python', 'k1': 145, 'k2': 3, 'k3': 9.87, 2: 'programming', 'k4': 2100, 'k5': 5.9}\n",
      "<class 'dict'>\n",
      "145\n"
     ]
    }
   ],
   "source": [
    "#dictionary\n",
    "d1={1:\"python\",\"k1\":145, \"k2\":3, \"k3\":9.87, 2:\"programming\", \"k4\":2100, \"k5\":5.9}\n",
    "print(d1)\n",
    "print(type(d1))\n",
    "\n",
    "#accessing through key\n",
    "print(d1[\"k1\"])"
   ]
  },
  {
   "cell_type": "code",
   "execution_count": null,
   "metadata": {},
   "outputs": [],
   "source": []
  }
 ],
 "metadata": {
  "kernelspec": {
   "display_name": "Python 3",
   "language": "python",
   "name": "python3"
  },
  "language_info": {
   "codemirror_mode": {
    "name": "ipython",
    "version": 3
   },
   "file_extension": ".py",
   "mimetype": "text/x-python",
   "name": "python",
   "nbconvert_exporter": "python",
   "pygments_lexer": "ipython3",
   "version": "3.8.3"
  }
 },
 "nbformat": 4,
 "nbformat_minor": 4
}
